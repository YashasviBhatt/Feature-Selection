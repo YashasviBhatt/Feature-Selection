{
 "cells": [
  {
   "cell_type": "code",
   "execution_count": 1,
   "id": "84c03283",
   "metadata": {},
   "outputs": [],
   "source": [
    "# Importing Libraries\n",
    "import pandas as pd\n",
    "from sklearn.ensemble import RandomForestClassifier\n",
    "from sklearn.feature_selection import RFE"
   ]
  },
  {
   "cell_type": "code",
   "execution_count": 2,
   "id": "0533c4b6",
   "metadata": {},
   "outputs": [],
   "source": [
    "# Ignoring Warnings\n",
    "import warnings\n",
    "warnings.filterwarnings('ignore')"
   ]
  },
  {
   "cell_type": "code",
   "execution_count": 3,
   "id": "5946b8fa",
   "metadata": {},
   "outputs": [],
   "source": [
    "# Importing Dataset\n",
    "df = pd.read_csv('data.csv')"
   ]
  },
  {
   "cell_type": "code",
   "execution_count": 4,
   "id": "1f6be664",
   "metadata": {},
   "outputs": [
    {
     "data": {
      "text/plain": [
       "(50882, 14)"
      ]
     },
     "execution_count": 4,
     "metadata": {},
     "output_type": "execute_result"
    }
   ],
   "source": [
    "# Dimensions of Dataset\n",
    "df.shape"
   ]
  },
  {
   "cell_type": "code",
   "execution_count": 5,
   "id": "cb5d572a",
   "metadata": {},
   "outputs": [
    {
     "data": {
      "text/plain": [
       "ID                             0\n",
       "City_Code                      0\n",
       "Region_Code                    0\n",
       "Accomodation_Type              0\n",
       "Reco_Insurance_Type            0\n",
       "Upper_Age                      0\n",
       "Lower_Age                      0\n",
       "Is_Spouse                      0\n",
       "Health_Indicator           11691\n",
       "Holding_Policy_Duration    20251\n",
       "Holding_Policy_Type        20251\n",
       "Reco_Policy_Cat                0\n",
       "Reco_Policy_Premium            0\n",
       "Response                       0\n",
       "dtype: int64"
      ]
     },
     "execution_count": 5,
     "metadata": {},
     "output_type": "execute_result"
    }
   ],
   "source": [
    "# Checking for Null Count\n",
    "df.isnull().sum()"
   ]
  },
  {
   "cell_type": "code",
   "execution_count": 6,
   "id": "9d36346f",
   "metadata": {},
   "outputs": [],
   "source": [
    "# Dropping Columns with high percentage of Null Values\n",
    "df = df.drop(columns=['ID', 'Holding_Policy_Duration', 'Holding_Policy_Type'], axis=1)"
   ]
  },
  {
   "cell_type": "code",
   "execution_count": 7,
   "id": "74f247ea",
   "metadata": {},
   "outputs": [
    {
     "data": {
      "text/plain": [
       "City_Code                  0\n",
       "Region_Code                0\n",
       "Accomodation_Type          0\n",
       "Reco_Insurance_Type        0\n",
       "Upper_Age                  0\n",
       "Lower_Age                  0\n",
       "Is_Spouse                  0\n",
       "Health_Indicator       11691\n",
       "Reco_Policy_Cat            0\n",
       "Reco_Policy_Premium        0\n",
       "Response                   0\n",
       "dtype: int64"
      ]
     },
     "execution_count": 7,
     "metadata": {},
     "output_type": "execute_result"
    }
   ],
   "source": [
    "# Checking for Null Count\n",
    "df.isnull().sum()"
   ]
  },
  {
   "cell_type": "code",
   "execution_count": 8,
   "id": "a39ff37f",
   "metadata": {},
   "outputs": [],
   "source": [
    "# Dropping Null Values\n",
    "df.dropna(axis=0, how='any', inplace=True)"
   ]
  },
  {
   "cell_type": "code",
   "execution_count": 9,
   "id": "e8074084",
   "metadata": {},
   "outputs": [
    {
     "data": {
      "text/plain": [
       "City_Code              0\n",
       "Region_Code            0\n",
       "Accomodation_Type      0\n",
       "Reco_Insurance_Type    0\n",
       "Upper_Age              0\n",
       "Lower_Age              0\n",
       "Is_Spouse              0\n",
       "Health_Indicator       0\n",
       "Reco_Policy_Cat        0\n",
       "Reco_Policy_Premium    0\n",
       "Response               0\n",
       "dtype: int64"
      ]
     },
     "execution_count": 9,
     "metadata": {},
     "output_type": "execute_result"
    }
   ],
   "source": [
    "# Checking for Null Count after removing all Null containing Rows\n",
    "df.isnull().sum()"
   ]
  },
  {
   "cell_type": "code",
   "execution_count": 10,
   "id": "91597075",
   "metadata": {},
   "outputs": [
    {
     "data": {
      "text/plain": [
       "(39191, 11)"
      ]
     },
     "execution_count": 10,
     "metadata": {},
     "output_type": "execute_result"
    }
   ],
   "source": [
    "# Dimensions of Dataset after removing all Null containing Rows\n",
    "df.shape"
   ]
  },
  {
   "cell_type": "code",
   "execution_count": 11,
   "id": "f2314ecd",
   "metadata": {},
   "outputs": [
    {
     "data": {
      "text/html": [
       "<div>\n",
       "<style scoped>\n",
       "    .dataframe tbody tr th:only-of-type {\n",
       "        vertical-align: middle;\n",
       "    }\n",
       "\n",
       "    .dataframe tbody tr th {\n",
       "        vertical-align: top;\n",
       "    }\n",
       "\n",
       "    .dataframe thead th {\n",
       "        text-align: right;\n",
       "    }\n",
       "</style>\n",
       "<table border=\"1\" class=\"dataframe\">\n",
       "  <thead>\n",
       "    <tr style=\"text-align: right;\">\n",
       "      <th></th>\n",
       "      <th>City_Code</th>\n",
       "      <th>Region_Code</th>\n",
       "      <th>Accomodation_Type</th>\n",
       "      <th>Reco_Insurance_Type</th>\n",
       "      <th>Upper_Age</th>\n",
       "      <th>Lower_Age</th>\n",
       "      <th>Is_Spouse</th>\n",
       "      <th>Health_Indicator</th>\n",
       "      <th>Reco_Policy_Cat</th>\n",
       "      <th>Reco_Policy_Premium</th>\n",
       "      <th>Response</th>\n",
       "    </tr>\n",
       "  </thead>\n",
       "  <tbody>\n",
       "    <tr>\n",
       "      <th>0</th>\n",
       "      <td>C3</td>\n",
       "      <td>3213</td>\n",
       "      <td>Rented</td>\n",
       "      <td>Individual</td>\n",
       "      <td>36</td>\n",
       "      <td>36</td>\n",
       "      <td>No</td>\n",
       "      <td>X1</td>\n",
       "      <td>22</td>\n",
       "      <td>11628.0</td>\n",
       "      <td>0</td>\n",
       "    </tr>\n",
       "    <tr>\n",
       "      <th>1</th>\n",
       "      <td>C5</td>\n",
       "      <td>1117</td>\n",
       "      <td>Owned</td>\n",
       "      <td>Joint</td>\n",
       "      <td>75</td>\n",
       "      <td>22</td>\n",
       "      <td>No</td>\n",
       "      <td>X2</td>\n",
       "      <td>22</td>\n",
       "      <td>30510.0</td>\n",
       "      <td>0</td>\n",
       "    </tr>\n",
       "    <tr>\n",
       "      <th>3</th>\n",
       "      <td>C24</td>\n",
       "      <td>4378</td>\n",
       "      <td>Owned</td>\n",
       "      <td>Joint</td>\n",
       "      <td>52</td>\n",
       "      <td>48</td>\n",
       "      <td>No</td>\n",
       "      <td>X1</td>\n",
       "      <td>19</td>\n",
       "      <td>17780.0</td>\n",
       "      <td>0</td>\n",
       "    </tr>\n",
       "    <tr>\n",
       "      <th>4</th>\n",
       "      <td>C8</td>\n",
       "      <td>2190</td>\n",
       "      <td>Rented</td>\n",
       "      <td>Individual</td>\n",
       "      <td>44</td>\n",
       "      <td>44</td>\n",
       "      <td>No</td>\n",
       "      <td>X2</td>\n",
       "      <td>16</td>\n",
       "      <td>10404.0</td>\n",
       "      <td>0</td>\n",
       "    </tr>\n",
       "    <tr>\n",
       "      <th>5</th>\n",
       "      <td>C9</td>\n",
       "      <td>1785</td>\n",
       "      <td>Rented</td>\n",
       "      <td>Individual</td>\n",
       "      <td>52</td>\n",
       "      <td>52</td>\n",
       "      <td>No</td>\n",
       "      <td>X2</td>\n",
       "      <td>22</td>\n",
       "      <td>15264.0</td>\n",
       "      <td>1</td>\n",
       "    </tr>\n",
       "  </tbody>\n",
       "</table>\n",
       "</div>"
      ],
      "text/plain": [
       "  City_Code  Region_Code Accomodation_Type Reco_Insurance_Type  Upper_Age  \\\n",
       "0        C3         3213            Rented          Individual         36   \n",
       "1        C5         1117             Owned               Joint         75   \n",
       "3       C24         4378             Owned               Joint         52   \n",
       "4        C8         2190            Rented          Individual         44   \n",
       "5        C9         1785            Rented          Individual         52   \n",
       "\n",
       "   Lower_Age Is_Spouse Health_Indicator  Reco_Policy_Cat  Reco_Policy_Premium  \\\n",
       "0         36        No               X1               22              11628.0   \n",
       "1         22        No               X2               22              30510.0   \n",
       "3         48        No               X1               19              17780.0   \n",
       "4         44        No               X2               16              10404.0   \n",
       "5         52        No               X2               22              15264.0   \n",
       "\n",
       "   Response  \n",
       "0         0  \n",
       "1         0  \n",
       "3         0  \n",
       "4         0  \n",
       "5         1  "
      ]
     },
     "execution_count": 11,
     "metadata": {},
     "output_type": "execute_result"
    }
   ],
   "source": [
    "# Data\n",
    "df.head()"
   ]
  },
  {
   "cell_type": "code",
   "execution_count": 12,
   "id": "34c1c6fd",
   "metadata": {},
   "outputs": [],
   "source": [
    "# Resetting Index\n",
    "df.reset_index(drop=True, inplace=True)"
   ]
  },
  {
   "cell_type": "code",
   "execution_count": 13,
   "id": "e416f780",
   "metadata": {},
   "outputs": [
    {
     "data": {
      "text/html": [
       "<div>\n",
       "<style scoped>\n",
       "    .dataframe tbody tr th:only-of-type {\n",
       "        vertical-align: middle;\n",
       "    }\n",
       "\n",
       "    .dataframe tbody tr th {\n",
       "        vertical-align: top;\n",
       "    }\n",
       "\n",
       "    .dataframe thead th {\n",
       "        text-align: right;\n",
       "    }\n",
       "</style>\n",
       "<table border=\"1\" class=\"dataframe\">\n",
       "  <thead>\n",
       "    <tr style=\"text-align: right;\">\n",
       "      <th></th>\n",
       "      <th>City_Code</th>\n",
       "      <th>Region_Code</th>\n",
       "      <th>Accomodation_Type</th>\n",
       "      <th>Reco_Insurance_Type</th>\n",
       "      <th>Upper_Age</th>\n",
       "      <th>Lower_Age</th>\n",
       "      <th>Is_Spouse</th>\n",
       "      <th>Health_Indicator</th>\n",
       "      <th>Reco_Policy_Cat</th>\n",
       "      <th>Reco_Policy_Premium</th>\n",
       "      <th>Response</th>\n",
       "    </tr>\n",
       "  </thead>\n",
       "  <tbody>\n",
       "    <tr>\n",
       "      <th>0</th>\n",
       "      <td>C3</td>\n",
       "      <td>3213</td>\n",
       "      <td>Rented</td>\n",
       "      <td>Individual</td>\n",
       "      <td>36</td>\n",
       "      <td>36</td>\n",
       "      <td>No</td>\n",
       "      <td>X1</td>\n",
       "      <td>22</td>\n",
       "      <td>11628.0</td>\n",
       "      <td>0</td>\n",
       "    </tr>\n",
       "    <tr>\n",
       "      <th>1</th>\n",
       "      <td>C5</td>\n",
       "      <td>1117</td>\n",
       "      <td>Owned</td>\n",
       "      <td>Joint</td>\n",
       "      <td>75</td>\n",
       "      <td>22</td>\n",
       "      <td>No</td>\n",
       "      <td>X2</td>\n",
       "      <td>22</td>\n",
       "      <td>30510.0</td>\n",
       "      <td>0</td>\n",
       "    </tr>\n",
       "    <tr>\n",
       "      <th>2</th>\n",
       "      <td>C24</td>\n",
       "      <td>4378</td>\n",
       "      <td>Owned</td>\n",
       "      <td>Joint</td>\n",
       "      <td>52</td>\n",
       "      <td>48</td>\n",
       "      <td>No</td>\n",
       "      <td>X1</td>\n",
       "      <td>19</td>\n",
       "      <td>17780.0</td>\n",
       "      <td>0</td>\n",
       "    </tr>\n",
       "    <tr>\n",
       "      <th>3</th>\n",
       "      <td>C8</td>\n",
       "      <td>2190</td>\n",
       "      <td>Rented</td>\n",
       "      <td>Individual</td>\n",
       "      <td>44</td>\n",
       "      <td>44</td>\n",
       "      <td>No</td>\n",
       "      <td>X2</td>\n",
       "      <td>16</td>\n",
       "      <td>10404.0</td>\n",
       "      <td>0</td>\n",
       "    </tr>\n",
       "    <tr>\n",
       "      <th>4</th>\n",
       "      <td>C9</td>\n",
       "      <td>1785</td>\n",
       "      <td>Rented</td>\n",
       "      <td>Individual</td>\n",
       "      <td>52</td>\n",
       "      <td>52</td>\n",
       "      <td>No</td>\n",
       "      <td>X2</td>\n",
       "      <td>22</td>\n",
       "      <td>15264.0</td>\n",
       "      <td>1</td>\n",
       "    </tr>\n",
       "  </tbody>\n",
       "</table>\n",
       "</div>"
      ],
      "text/plain": [
       "  City_Code  Region_Code Accomodation_Type Reco_Insurance_Type  Upper_Age  \\\n",
       "0        C3         3213            Rented          Individual         36   \n",
       "1        C5         1117             Owned               Joint         75   \n",
       "2       C24         4378             Owned               Joint         52   \n",
       "3        C8         2190            Rented          Individual         44   \n",
       "4        C9         1785            Rented          Individual         52   \n",
       "\n",
       "   Lower_Age Is_Spouse Health_Indicator  Reco_Policy_Cat  Reco_Policy_Premium  \\\n",
       "0         36        No               X1               22              11628.0   \n",
       "1         22        No               X2               22              30510.0   \n",
       "2         48        No               X1               19              17780.0   \n",
       "3         44        No               X2               16              10404.0   \n",
       "4         52        No               X2               22              15264.0   \n",
       "\n",
       "   Response  \n",
       "0         0  \n",
       "1         0  \n",
       "2         0  \n",
       "3         0  \n",
       "4         1  "
      ]
     },
     "execution_count": 13,
     "metadata": {},
     "output_type": "execute_result"
    }
   ],
   "source": [
    "# Data after Resetting Index\n",
    "df.head()"
   ]
  },
  {
   "cell_type": "code",
   "execution_count": 14,
   "id": "e32092df",
   "metadata": {},
   "outputs": [
    {
     "name": "stdout",
     "output_type": "stream",
     "text": [
      "<class 'pandas.core.frame.DataFrame'>\n",
      "RangeIndex: 39191 entries, 0 to 39190\n",
      "Data columns (total 11 columns):\n",
      " #   Column               Non-Null Count  Dtype  \n",
      "---  ------               --------------  -----  \n",
      " 0   City_Code            39191 non-null  object \n",
      " 1   Region_Code          39191 non-null  int64  \n",
      " 2   Accomodation_Type    39191 non-null  object \n",
      " 3   Reco_Insurance_Type  39191 non-null  object \n",
      " 4   Upper_Age            39191 non-null  int64  \n",
      " 5   Lower_Age            39191 non-null  int64  \n",
      " 6   Is_Spouse            39191 non-null  object \n",
      " 7   Health_Indicator     39191 non-null  object \n",
      " 8   Reco_Policy_Cat      39191 non-null  int64  \n",
      " 9   Reco_Policy_Premium  39191 non-null  float64\n",
      " 10  Response             39191 non-null  int64  \n",
      "dtypes: float64(1), int64(5), object(5)\n",
      "memory usage: 3.3+ MB\n"
     ]
    }
   ],
   "source": [
    "# Dataset Information\n",
    "df.info()"
   ]
  },
  {
   "cell_type": "markdown",
   "id": "dd53086f",
   "metadata": {},
   "source": [
    "## Label Encoding for Categorical Features\n",
    "### Features to Target\n",
    "- City_Code, Accomodation_Type, \n",
    "- Health_Indicator, Is_Spouse, \n",
    "- Reco_Insurance_Type"
   ]
  },
  {
   "cell_type": "code",
   "execution_count": 15,
   "id": "2b3edfbb",
   "metadata": {},
   "outputs": [
    {
     "name": "stdout",
     "output_type": "stream",
     "text": [
      "City_Code : ['C1', 'C2', 'C3', 'C4', 'C9', 'C6', 'C7', 'C8', 'C10', 'C5', 'C15', 'C17', 'C16', 'C11', 'C13', 'C20', 'C19', 'C12', 'C18', 'C14', 'C21', 'C23', 'C24', 'C22', 'C26', 'C29', 'C25', 'C28', 'C33', 'C27', 'C32', 'C34', 'C30', 'C35', 'C36', 'C31']\n",
      "\n",
      "Accomodation_Type : ['Owned', 'Rented']\n",
      "\n",
      "Reco_Insurance_Type : ['Individual', 'Joint']\n",
      "\n",
      "Is_Spouse : ['No', 'Yes']\n",
      "\n",
      "Health_Indicator : ['X1', 'X2', 'X3', 'X4', 'X5', 'X6', 'X7', 'X8', 'X9']\n",
      "\n"
     ]
    }
   ],
   "source": [
    "# Calculating Number of Categories in Each Column\n",
    "cat_col_set = ['City_Code', 'Accomodation_Type', 'Reco_Insurance_Type', 'Is_Spouse', 'Health_Indicator']\n",
    "for col in cat_col_set:\n",
    "    category_set = list(dict(df[col].value_counts()).keys())\n",
    "    print(f'{col} : {category_set}\\n')"
   ]
  },
  {
   "cell_type": "code",
   "execution_count": 16,
   "id": "b848c5f8",
   "metadata": {},
   "outputs": [],
   "source": [
    "# Setting Encoding Criteria\n",
    "enc = {\n",
    "    'City_Code': {f'C{i}': i for i in range(1, 37)},\n",
    "    'Accomodation_Type': {'Owned': 0, 'Rented': 1},\n",
    "    'Reco_Insurance_Type': {'Individual': 0, 'Joint': 1},\n",
    "    'Is_Spouse': {'No': 0, 'Yes': 1},\n",
    "    'Health_Indicator': {f'X{i}': i for i in range(1, 10)}\n",
    "}"
   ]
  },
  {
   "cell_type": "code",
   "execution_count": 17,
   "id": "b6a37e05",
   "metadata": {},
   "outputs": [
    {
     "data": {
      "text/plain": [
       "{'City_Code': {'C1': 1,\n",
       "  'C2': 2,\n",
       "  'C3': 3,\n",
       "  'C4': 4,\n",
       "  'C5': 5,\n",
       "  'C6': 6,\n",
       "  'C7': 7,\n",
       "  'C8': 8,\n",
       "  'C9': 9,\n",
       "  'C10': 10,\n",
       "  'C11': 11,\n",
       "  'C12': 12,\n",
       "  'C13': 13,\n",
       "  'C14': 14,\n",
       "  'C15': 15,\n",
       "  'C16': 16,\n",
       "  'C17': 17,\n",
       "  'C18': 18,\n",
       "  'C19': 19,\n",
       "  'C20': 20,\n",
       "  'C21': 21,\n",
       "  'C22': 22,\n",
       "  'C23': 23,\n",
       "  'C24': 24,\n",
       "  'C25': 25,\n",
       "  'C26': 26,\n",
       "  'C27': 27,\n",
       "  'C28': 28,\n",
       "  'C29': 29,\n",
       "  'C30': 30,\n",
       "  'C31': 31,\n",
       "  'C32': 32,\n",
       "  'C33': 33,\n",
       "  'C34': 34,\n",
       "  'C35': 35,\n",
       "  'C36': 36},\n",
       " 'Accomodation_Type': {'Owned': 0, 'Rented': 1},\n",
       " 'Reco_Insurance_Type': {'Individual': 0, 'Joint': 1},\n",
       " 'Is_Spouse': {'No': 0, 'Yes': 1},\n",
       " 'Health_Indicator': {'X1': 1,\n",
       "  'X2': 2,\n",
       "  'X3': 3,\n",
       "  'X4': 4,\n",
       "  'X5': 5,\n",
       "  'X6': 6,\n",
       "  'X7': 7,\n",
       "  'X8': 8,\n",
       "  'X9': 9}}"
      ]
     },
     "execution_count": 17,
     "metadata": {},
     "output_type": "execute_result"
    }
   ],
   "source": [
    "# Encoding Criteria Preview\n",
    "enc"
   ]
  },
  {
   "cell_type": "code",
   "execution_count": 18,
   "id": "00cac312",
   "metadata": {},
   "outputs": [],
   "source": [
    "# Encoding\n",
    "df.replace(enc, inplace=True)"
   ]
  },
  {
   "cell_type": "code",
   "execution_count": 19,
   "id": "befc909a",
   "metadata": {},
   "outputs": [
    {
     "name": "stdout",
     "output_type": "stream",
     "text": [
      "<class 'pandas.core.frame.DataFrame'>\n",
      "RangeIndex: 39191 entries, 0 to 39190\n",
      "Data columns (total 11 columns):\n",
      " #   Column               Non-Null Count  Dtype  \n",
      "---  ------               --------------  -----  \n",
      " 0   City_Code            39191 non-null  int64  \n",
      " 1   Region_Code          39191 non-null  int64  \n",
      " 2   Accomodation_Type    39191 non-null  int64  \n",
      " 3   Reco_Insurance_Type  39191 non-null  int64  \n",
      " 4   Upper_Age            39191 non-null  int64  \n",
      " 5   Lower_Age            39191 non-null  int64  \n",
      " 6   Is_Spouse            39191 non-null  int64  \n",
      " 7   Health_Indicator     39191 non-null  int64  \n",
      " 8   Reco_Policy_Cat      39191 non-null  int64  \n",
      " 9   Reco_Policy_Premium  39191 non-null  float64\n",
      " 10  Response             39191 non-null  int64  \n",
      "dtypes: float64(1), int64(10)\n",
      "memory usage: 3.3 MB\n"
     ]
    }
   ],
   "source": [
    "# Updated Dataset Information\n",
    "df.info()"
   ]
  },
  {
   "cell_type": "code",
   "execution_count": 20,
   "id": "209b2bc4",
   "metadata": {},
   "outputs": [
    {
     "data": {
      "text/html": [
       "<div>\n",
       "<style scoped>\n",
       "    .dataframe tbody tr th:only-of-type {\n",
       "        vertical-align: middle;\n",
       "    }\n",
       "\n",
       "    .dataframe tbody tr th {\n",
       "        vertical-align: top;\n",
       "    }\n",
       "\n",
       "    .dataframe thead th {\n",
       "        text-align: right;\n",
       "    }\n",
       "</style>\n",
       "<table border=\"1\" class=\"dataframe\">\n",
       "  <thead>\n",
       "    <tr style=\"text-align: right;\">\n",
       "      <th></th>\n",
       "      <th>City_Code</th>\n",
       "      <th>Region_Code</th>\n",
       "      <th>Accomodation_Type</th>\n",
       "      <th>Reco_Insurance_Type</th>\n",
       "      <th>Upper_Age</th>\n",
       "      <th>Lower_Age</th>\n",
       "      <th>Is_Spouse</th>\n",
       "      <th>Health_Indicator</th>\n",
       "      <th>Reco_Policy_Cat</th>\n",
       "      <th>Reco_Policy_Premium</th>\n",
       "      <th>Response</th>\n",
       "    </tr>\n",
       "  </thead>\n",
       "  <tbody>\n",
       "    <tr>\n",
       "      <th>0</th>\n",
       "      <td>3</td>\n",
       "      <td>3213</td>\n",
       "      <td>1</td>\n",
       "      <td>0</td>\n",
       "      <td>36</td>\n",
       "      <td>36</td>\n",
       "      <td>0</td>\n",
       "      <td>1</td>\n",
       "      <td>22</td>\n",
       "      <td>11628.0</td>\n",
       "      <td>0</td>\n",
       "    </tr>\n",
       "    <tr>\n",
       "      <th>1</th>\n",
       "      <td>5</td>\n",
       "      <td>1117</td>\n",
       "      <td>0</td>\n",
       "      <td>1</td>\n",
       "      <td>75</td>\n",
       "      <td>22</td>\n",
       "      <td>0</td>\n",
       "      <td>2</td>\n",
       "      <td>22</td>\n",
       "      <td>30510.0</td>\n",
       "      <td>0</td>\n",
       "    </tr>\n",
       "    <tr>\n",
       "      <th>2</th>\n",
       "      <td>24</td>\n",
       "      <td>4378</td>\n",
       "      <td>0</td>\n",
       "      <td>1</td>\n",
       "      <td>52</td>\n",
       "      <td>48</td>\n",
       "      <td>0</td>\n",
       "      <td>1</td>\n",
       "      <td>19</td>\n",
       "      <td>17780.0</td>\n",
       "      <td>0</td>\n",
       "    </tr>\n",
       "    <tr>\n",
       "      <th>3</th>\n",
       "      <td>8</td>\n",
       "      <td>2190</td>\n",
       "      <td>1</td>\n",
       "      <td>0</td>\n",
       "      <td>44</td>\n",
       "      <td>44</td>\n",
       "      <td>0</td>\n",
       "      <td>2</td>\n",
       "      <td>16</td>\n",
       "      <td>10404.0</td>\n",
       "      <td>0</td>\n",
       "    </tr>\n",
       "    <tr>\n",
       "      <th>4</th>\n",
       "      <td>9</td>\n",
       "      <td>1785</td>\n",
       "      <td>1</td>\n",
       "      <td>0</td>\n",
       "      <td>52</td>\n",
       "      <td>52</td>\n",
       "      <td>0</td>\n",
       "      <td>2</td>\n",
       "      <td>22</td>\n",
       "      <td>15264.0</td>\n",
       "      <td>1</td>\n",
       "    </tr>\n",
       "  </tbody>\n",
       "</table>\n",
       "</div>"
      ],
      "text/plain": [
       "   City_Code  Region_Code  Accomodation_Type  Reco_Insurance_Type  Upper_Age  \\\n",
       "0          3         3213                  1                    0         36   \n",
       "1          5         1117                  0                    1         75   \n",
       "2         24         4378                  0                    1         52   \n",
       "3          8         2190                  1                    0         44   \n",
       "4          9         1785                  1                    0         52   \n",
       "\n",
       "   Lower_Age  Is_Spouse  Health_Indicator  Reco_Policy_Cat  \\\n",
       "0         36          0                 1               22   \n",
       "1         22          0                 2               22   \n",
       "2         48          0                 1               19   \n",
       "3         44          0                 2               16   \n",
       "4         52          0                 2               22   \n",
       "\n",
       "   Reco_Policy_Premium  Response  \n",
       "0              11628.0         0  \n",
       "1              30510.0         0  \n",
       "2              17780.0         0  \n",
       "3              10404.0         0  \n",
       "4              15264.0         1  "
      ]
     },
     "execution_count": 20,
     "metadata": {},
     "output_type": "execute_result"
    }
   ],
   "source": [
    "# Updated Data Set\n",
    "df.head()"
   ]
  },
  {
   "cell_type": "code",
   "execution_count": 21,
   "id": "58880a22",
   "metadata": {},
   "outputs": [],
   "source": [
    "# Feature Set and Class Set\n",
    "X = df.iloc[0:, :-1]\n",
    "y = df.iloc[0:, 10:]"
   ]
  },
  {
   "cell_type": "code",
   "execution_count": 22,
   "id": "5d5708c7",
   "metadata": {},
   "outputs": [
    {
     "name": "stdout",
     "output_type": "stream",
     "text": [
      "Wall time: 0 ns\n"
     ]
    }
   ],
   "source": [
    "%%time\n",
    "# Random Forest Classifier\n",
    "rf_clf = RandomForestClassifier(n_estimators=100, criterion='entropy', n_jobs=-1)"
   ]
  },
  {
   "cell_type": "code",
   "execution_count": 23,
   "id": "7b4fd8c6",
   "metadata": {},
   "outputs": [
    {
     "name": "stdout",
     "output_type": "stream",
     "text": [
      "{1: 'Region_Code', 2: 'Reco_Policy_Premium', 3: 'Lower_Age', 4: 'Upper_Age', 5: 'City_Code'}\n",
      "Wall time: 6min 18s\n"
     ]
    }
   ],
   "source": [
    "%%time\n",
    "\n",
    "# Recursive Feature Selection\n",
    "rank_set = {}\n",
    "ranker = 1\n",
    "\n",
    "for n in range(1, 6):\n",
    "    rfe = RFE(rf_clf, n_features_to_select=n)\n",
    "    rfe.fit(X, y)\n",
    "    feature_set = {k: v for k, v in zip(df.columns, rfe.get_support())}\n",
    "    for k in feature_set.keys():\n",
    "        if feature_set[k]:\n",
    "            if k not in rank_set.values():\n",
    "                rank_set[ranker] = k\n",
    "                ranker += 1\n",
    "\n",
    "print(rank_set)"
   ]
  }
 ],
 "metadata": {
  "kernelspec": {
   "display_name": "Python 3",
   "language": "python",
   "name": "python3"
  },
  "language_info": {
   "codemirror_mode": {
    "name": "ipython",
    "version": 3
   },
   "file_extension": ".py",
   "mimetype": "text/x-python",
   "name": "python",
   "nbconvert_exporter": "python",
   "pygments_lexer": "ipython3",
   "version": "3.7.3"
  }
 },
 "nbformat": 4,
 "nbformat_minor": 5
}
