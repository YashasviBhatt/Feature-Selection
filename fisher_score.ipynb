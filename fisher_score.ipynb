{
 "cells": [
  {
   "cell_type": "markdown",
   "id": "d23e1e8e",
   "metadata": {},
   "source": [
    "## Before running this notebook make sure to follow these steps\n",
    "- Install `git` and make sure to add its path to `Environment Variables` of your OS.\n",
    "- Clone [this](https://github.com/jundongl/scikit-feature) GitHub repository by typing _`git clone https://github.com/jundongl/scikit-feature`_ in your command shell.\n",
    "- Go inside the cloned folder by typing _`cd ./scikit-feature`_.\n",
    "- Then install `Scikit-Feature` from the cloned repository by simply typing _`python setup.py install`_.\n",
    "- Make sure you have `Numpy`, `Scikit-Learn`, `Scipy` already installed on your Python Env."
   ]
  },
  {
   "cell_type": "code",
   "execution_count": 1,
   "id": "1c07c5a4",
   "metadata": {},
   "outputs": [],
   "source": [
    "# Importing Libraries\n",
    "import pandas as pd\n",
    "from skfeature.function.similarity_based import fisher_score"
   ]
  },
  {
   "cell_type": "code",
   "execution_count": 2,
   "id": "83ba04e4",
   "metadata": {},
   "outputs": [],
   "source": [
    "# Ignoring Warnings\n",
    "import warnings\n",
    "warnings.filterwarnings('ignore')"
   ]
  },
  {
   "cell_type": "code",
   "execution_count": 3,
   "id": "3f510639",
   "metadata": {},
   "outputs": [],
   "source": [
    "# Importing Dataset\n",
    "df = pd.read_csv('data.csv')"
   ]
  },
  {
   "cell_type": "code",
   "execution_count": 4,
   "id": "ec8101eb",
   "metadata": {},
   "outputs": [
    {
     "data": {
      "text/plain": [
       "(50882, 14)"
      ]
     },
     "execution_count": 4,
     "metadata": {},
     "output_type": "execute_result"
    }
   ],
   "source": [
    "# Dimensions of Dataset\n",
    "df.shape"
   ]
  },
  {
   "cell_type": "code",
   "execution_count": 5,
   "id": "a5b3455a",
   "metadata": {},
   "outputs": [
    {
     "data": {
      "text/plain": [
       "ID                             0\n",
       "City_Code                      0\n",
       "Region_Code                    0\n",
       "Accomodation_Type              0\n",
       "Reco_Insurance_Type            0\n",
       "Upper_Age                      0\n",
       "Lower_Age                      0\n",
       "Is_Spouse                      0\n",
       "Health_Indicator           11691\n",
       "Holding_Policy_Duration    20251\n",
       "Holding_Policy_Type        20251\n",
       "Reco_Policy_Cat                0\n",
       "Reco_Policy_Premium            0\n",
       "Response                       0\n",
       "dtype: int64"
      ]
     },
     "execution_count": 5,
     "metadata": {},
     "output_type": "execute_result"
    }
   ],
   "source": [
    "# Checking for Null Count\n",
    "df.isnull().sum()"
   ]
  },
  {
   "cell_type": "code",
   "execution_count": 6,
   "id": "f936c7cf",
   "metadata": {},
   "outputs": [],
   "source": [
    "# Dropping Columns with high percentage of Null Values\n",
    "df = df.drop(columns=['Holding_Policy_Duration', 'Holding_Policy_Type'], axis=1)"
   ]
  },
  {
   "cell_type": "code",
   "execution_count": 7,
   "id": "4a7bb69e",
   "metadata": {},
   "outputs": [
    {
     "data": {
      "text/plain": [
       "ID                         0\n",
       "City_Code                  0\n",
       "Region_Code                0\n",
       "Accomodation_Type          0\n",
       "Reco_Insurance_Type        0\n",
       "Upper_Age                  0\n",
       "Lower_Age                  0\n",
       "Is_Spouse                  0\n",
       "Health_Indicator       11691\n",
       "Reco_Policy_Cat            0\n",
       "Reco_Policy_Premium        0\n",
       "Response                   0\n",
       "dtype: int64"
      ]
     },
     "execution_count": 7,
     "metadata": {},
     "output_type": "execute_result"
    }
   ],
   "source": [
    "# Checking for Null Count\n",
    "df.isnull().sum()"
   ]
  },
  {
   "cell_type": "code",
   "execution_count": 8,
   "id": "11a8a9c5",
   "metadata": {},
   "outputs": [],
   "source": [
    "# Dropping Null Values\n",
    "df.dropna(axis=0, how='any', inplace=True)"
   ]
  },
  {
   "cell_type": "code",
   "execution_count": 9,
   "id": "9d7634fe",
   "metadata": {},
   "outputs": [
    {
     "data": {
      "text/plain": [
       "ID                     0\n",
       "City_Code              0\n",
       "Region_Code            0\n",
       "Accomodation_Type      0\n",
       "Reco_Insurance_Type    0\n",
       "Upper_Age              0\n",
       "Lower_Age              0\n",
       "Is_Spouse              0\n",
       "Health_Indicator       0\n",
       "Reco_Policy_Cat        0\n",
       "Reco_Policy_Premium    0\n",
       "Response               0\n",
       "dtype: int64"
      ]
     },
     "execution_count": 9,
     "metadata": {},
     "output_type": "execute_result"
    }
   ],
   "source": [
    "# Checking for Null Count after removing null from everywhere\n",
    "df.isnull().sum()"
   ]
  },
  {
   "cell_type": "code",
   "execution_count": 10,
   "id": "8ac84f2c",
   "metadata": {},
   "outputs": [
    {
     "data": {
      "text/plain": [
       "(39191, 12)"
      ]
     },
     "execution_count": 10,
     "metadata": {},
     "output_type": "execute_result"
    }
   ],
   "source": [
    "# Dimensions of Dataset after removing all Null\n",
    "df.shape"
   ]
  },
  {
   "cell_type": "code",
   "execution_count": 11,
   "id": "4a757e33",
   "metadata": {},
   "outputs": [
    {
     "data": {
      "text/html": [
       "<div>\n",
       "<style scoped>\n",
       "    .dataframe tbody tr th:only-of-type {\n",
       "        vertical-align: middle;\n",
       "    }\n",
       "\n",
       "    .dataframe tbody tr th {\n",
       "        vertical-align: top;\n",
       "    }\n",
       "\n",
       "    .dataframe thead th {\n",
       "        text-align: right;\n",
       "    }\n",
       "</style>\n",
       "<table border=\"1\" class=\"dataframe\">\n",
       "  <thead>\n",
       "    <tr style=\"text-align: right;\">\n",
       "      <th></th>\n",
       "      <th>ID</th>\n",
       "      <th>City_Code</th>\n",
       "      <th>Region_Code</th>\n",
       "      <th>Accomodation_Type</th>\n",
       "      <th>Reco_Insurance_Type</th>\n",
       "      <th>Upper_Age</th>\n",
       "      <th>Lower_Age</th>\n",
       "      <th>Is_Spouse</th>\n",
       "      <th>Health_Indicator</th>\n",
       "      <th>Reco_Policy_Cat</th>\n",
       "      <th>Reco_Policy_Premium</th>\n",
       "      <th>Response</th>\n",
       "    </tr>\n",
       "  </thead>\n",
       "  <tbody>\n",
       "    <tr>\n",
       "      <th>0</th>\n",
       "      <td>1</td>\n",
       "      <td>C3</td>\n",
       "      <td>3213</td>\n",
       "      <td>Rented</td>\n",
       "      <td>Individual</td>\n",
       "      <td>36</td>\n",
       "      <td>36</td>\n",
       "      <td>No</td>\n",
       "      <td>X1</td>\n",
       "      <td>22</td>\n",
       "      <td>11628.0</td>\n",
       "      <td>0</td>\n",
       "    </tr>\n",
       "    <tr>\n",
       "      <th>1</th>\n",
       "      <td>2</td>\n",
       "      <td>C5</td>\n",
       "      <td>1117</td>\n",
       "      <td>Owned</td>\n",
       "      <td>Joint</td>\n",
       "      <td>75</td>\n",
       "      <td>22</td>\n",
       "      <td>No</td>\n",
       "      <td>X2</td>\n",
       "      <td>22</td>\n",
       "      <td>30510.0</td>\n",
       "      <td>0</td>\n",
       "    </tr>\n",
       "    <tr>\n",
       "      <th>3</th>\n",
       "      <td>4</td>\n",
       "      <td>C24</td>\n",
       "      <td>4378</td>\n",
       "      <td>Owned</td>\n",
       "      <td>Joint</td>\n",
       "      <td>52</td>\n",
       "      <td>48</td>\n",
       "      <td>No</td>\n",
       "      <td>X1</td>\n",
       "      <td>19</td>\n",
       "      <td>17780.0</td>\n",
       "      <td>0</td>\n",
       "    </tr>\n",
       "    <tr>\n",
       "      <th>4</th>\n",
       "      <td>5</td>\n",
       "      <td>C8</td>\n",
       "      <td>2190</td>\n",
       "      <td>Rented</td>\n",
       "      <td>Individual</td>\n",
       "      <td>44</td>\n",
       "      <td>44</td>\n",
       "      <td>No</td>\n",
       "      <td>X2</td>\n",
       "      <td>16</td>\n",
       "      <td>10404.0</td>\n",
       "      <td>0</td>\n",
       "    </tr>\n",
       "    <tr>\n",
       "      <th>5</th>\n",
       "      <td>6</td>\n",
       "      <td>C9</td>\n",
       "      <td>1785</td>\n",
       "      <td>Rented</td>\n",
       "      <td>Individual</td>\n",
       "      <td>52</td>\n",
       "      <td>52</td>\n",
       "      <td>No</td>\n",
       "      <td>X2</td>\n",
       "      <td>22</td>\n",
       "      <td>15264.0</td>\n",
       "      <td>1</td>\n",
       "    </tr>\n",
       "  </tbody>\n",
       "</table>\n",
       "</div>"
      ],
      "text/plain": [
       "   ID City_Code  Region_Code Accomodation_Type Reco_Insurance_Type  Upper_Age  \\\n",
       "0   1        C3         3213            Rented          Individual         36   \n",
       "1   2        C5         1117             Owned               Joint         75   \n",
       "3   4       C24         4378             Owned               Joint         52   \n",
       "4   5        C8         2190            Rented          Individual         44   \n",
       "5   6        C9         1785            Rented          Individual         52   \n",
       "\n",
       "   Lower_Age Is_Spouse Health_Indicator  Reco_Policy_Cat  Reco_Policy_Premium  \\\n",
       "0         36        No               X1               22              11628.0   \n",
       "1         22        No               X2               22              30510.0   \n",
       "3         48        No               X1               19              17780.0   \n",
       "4         44        No               X2               16              10404.0   \n",
       "5         52        No               X2               22              15264.0   \n",
       "\n",
       "   Response  \n",
       "0         0  \n",
       "1         0  \n",
       "3         0  \n",
       "4         0  \n",
       "5         1  "
      ]
     },
     "execution_count": 11,
     "metadata": {},
     "output_type": "execute_result"
    }
   ],
   "source": [
    "# Data\n",
    "df.head()"
   ]
  },
  {
   "cell_type": "code",
   "execution_count": 12,
   "id": "2f1c639a",
   "metadata": {},
   "outputs": [],
   "source": [
    "# Resetting Index\n",
    "df.reset_index(drop=True, inplace=True)"
   ]
  },
  {
   "cell_type": "code",
   "execution_count": 13,
   "id": "483b8c31",
   "metadata": {},
   "outputs": [
    {
     "data": {
      "text/html": [
       "<div>\n",
       "<style scoped>\n",
       "    .dataframe tbody tr th:only-of-type {\n",
       "        vertical-align: middle;\n",
       "    }\n",
       "\n",
       "    .dataframe tbody tr th {\n",
       "        vertical-align: top;\n",
       "    }\n",
       "\n",
       "    .dataframe thead th {\n",
       "        text-align: right;\n",
       "    }\n",
       "</style>\n",
       "<table border=\"1\" class=\"dataframe\">\n",
       "  <thead>\n",
       "    <tr style=\"text-align: right;\">\n",
       "      <th></th>\n",
       "      <th>ID</th>\n",
       "      <th>City_Code</th>\n",
       "      <th>Region_Code</th>\n",
       "      <th>Accomodation_Type</th>\n",
       "      <th>Reco_Insurance_Type</th>\n",
       "      <th>Upper_Age</th>\n",
       "      <th>Lower_Age</th>\n",
       "      <th>Is_Spouse</th>\n",
       "      <th>Health_Indicator</th>\n",
       "      <th>Reco_Policy_Cat</th>\n",
       "      <th>Reco_Policy_Premium</th>\n",
       "      <th>Response</th>\n",
       "    </tr>\n",
       "  </thead>\n",
       "  <tbody>\n",
       "    <tr>\n",
       "      <th>0</th>\n",
       "      <td>1</td>\n",
       "      <td>C3</td>\n",
       "      <td>3213</td>\n",
       "      <td>Rented</td>\n",
       "      <td>Individual</td>\n",
       "      <td>36</td>\n",
       "      <td>36</td>\n",
       "      <td>No</td>\n",
       "      <td>X1</td>\n",
       "      <td>22</td>\n",
       "      <td>11628.0</td>\n",
       "      <td>0</td>\n",
       "    </tr>\n",
       "    <tr>\n",
       "      <th>1</th>\n",
       "      <td>2</td>\n",
       "      <td>C5</td>\n",
       "      <td>1117</td>\n",
       "      <td>Owned</td>\n",
       "      <td>Joint</td>\n",
       "      <td>75</td>\n",
       "      <td>22</td>\n",
       "      <td>No</td>\n",
       "      <td>X2</td>\n",
       "      <td>22</td>\n",
       "      <td>30510.0</td>\n",
       "      <td>0</td>\n",
       "    </tr>\n",
       "    <tr>\n",
       "      <th>2</th>\n",
       "      <td>4</td>\n",
       "      <td>C24</td>\n",
       "      <td>4378</td>\n",
       "      <td>Owned</td>\n",
       "      <td>Joint</td>\n",
       "      <td>52</td>\n",
       "      <td>48</td>\n",
       "      <td>No</td>\n",
       "      <td>X1</td>\n",
       "      <td>19</td>\n",
       "      <td>17780.0</td>\n",
       "      <td>0</td>\n",
       "    </tr>\n",
       "    <tr>\n",
       "      <th>3</th>\n",
       "      <td>5</td>\n",
       "      <td>C8</td>\n",
       "      <td>2190</td>\n",
       "      <td>Rented</td>\n",
       "      <td>Individual</td>\n",
       "      <td>44</td>\n",
       "      <td>44</td>\n",
       "      <td>No</td>\n",
       "      <td>X2</td>\n",
       "      <td>16</td>\n",
       "      <td>10404.0</td>\n",
       "      <td>0</td>\n",
       "    </tr>\n",
       "    <tr>\n",
       "      <th>4</th>\n",
       "      <td>6</td>\n",
       "      <td>C9</td>\n",
       "      <td>1785</td>\n",
       "      <td>Rented</td>\n",
       "      <td>Individual</td>\n",
       "      <td>52</td>\n",
       "      <td>52</td>\n",
       "      <td>No</td>\n",
       "      <td>X2</td>\n",
       "      <td>22</td>\n",
       "      <td>15264.0</td>\n",
       "      <td>1</td>\n",
       "    </tr>\n",
       "  </tbody>\n",
       "</table>\n",
       "</div>"
      ],
      "text/plain": [
       "   ID City_Code  Region_Code Accomodation_Type Reco_Insurance_Type  Upper_Age  \\\n",
       "0   1        C3         3213            Rented          Individual         36   \n",
       "1   2        C5         1117             Owned               Joint         75   \n",
       "2   4       C24         4378             Owned               Joint         52   \n",
       "3   5        C8         2190            Rented          Individual         44   \n",
       "4   6        C9         1785            Rented          Individual         52   \n",
       "\n",
       "   Lower_Age Is_Spouse Health_Indicator  Reco_Policy_Cat  Reco_Policy_Premium  \\\n",
       "0         36        No               X1               22              11628.0   \n",
       "1         22        No               X2               22              30510.0   \n",
       "2         48        No               X1               19              17780.0   \n",
       "3         44        No               X2               16              10404.0   \n",
       "4         52        No               X2               22              15264.0   \n",
       "\n",
       "   Response  \n",
       "0         0  \n",
       "1         0  \n",
       "2         0  \n",
       "3         0  \n",
       "4         1  "
      ]
     },
     "execution_count": 13,
     "metadata": {},
     "output_type": "execute_result"
    }
   ],
   "source": [
    "# Data after Resetting Index\n",
    "df.head()"
   ]
  },
  {
   "cell_type": "code",
   "execution_count": 14,
   "id": "74dc5a54",
   "metadata": {},
   "outputs": [
    {
     "name": "stdout",
     "output_type": "stream",
     "text": [
      "<class 'pandas.core.frame.DataFrame'>\n",
      "RangeIndex: 39191 entries, 0 to 39190\n",
      "Data columns (total 12 columns):\n",
      " #   Column               Non-Null Count  Dtype  \n",
      "---  ------               --------------  -----  \n",
      " 0   ID                   39191 non-null  int64  \n",
      " 1   City_Code            39191 non-null  object \n",
      " 2   Region_Code          39191 non-null  int64  \n",
      " 3   Accomodation_Type    39191 non-null  object \n",
      " 4   Reco_Insurance_Type  39191 non-null  object \n",
      " 5   Upper_Age            39191 non-null  int64  \n",
      " 6   Lower_Age            39191 non-null  int64  \n",
      " 7   Is_Spouse            39191 non-null  object \n",
      " 8   Health_Indicator     39191 non-null  object \n",
      " 9   Reco_Policy_Cat      39191 non-null  int64  \n",
      " 10  Reco_Policy_Premium  39191 non-null  float64\n",
      " 11  Response             39191 non-null  int64  \n",
      "dtypes: float64(1), int64(6), object(5)\n",
      "memory usage: 3.6+ MB\n"
     ]
    }
   ],
   "source": [
    "# Dataset Information\n",
    "df.info()"
   ]
  },
  {
   "cell_type": "markdown",
   "id": "14e0cf73",
   "metadata": {},
   "source": [
    "## Categorical Feature Selection\n",
    "\n",
    "### Features to Target\n",
    "- City_Code, Accomodation_Type, \n",
    "- Reco_Insurance_Type, Is_Spouse, \n",
    "- Health_Indicator, Reco_Policy_Cat"
   ]
  },
  {
   "cell_type": "code",
   "execution_count": 15,
   "id": "6ba45c77",
   "metadata": {},
   "outputs": [
    {
     "data": {
      "text/html": [
       "<div>\n",
       "<style scoped>\n",
       "    .dataframe tbody tr th:only-of-type {\n",
       "        vertical-align: middle;\n",
       "    }\n",
       "\n",
       "    .dataframe tbody tr th {\n",
       "        vertical-align: top;\n",
       "    }\n",
       "\n",
       "    .dataframe thead th {\n",
       "        text-align: right;\n",
       "    }\n",
       "</style>\n",
       "<table border=\"1\" class=\"dataframe\">\n",
       "  <thead>\n",
       "    <tr style=\"text-align: right;\">\n",
       "      <th></th>\n",
       "      <th>City_Code</th>\n",
       "      <th>Accomodation_Type</th>\n",
       "      <th>Reco_Insurance_Type</th>\n",
       "      <th>Is_Spouse</th>\n",
       "      <th>Health_Indicator</th>\n",
       "      <th>Reco_Policy_Cat</th>\n",
       "      <th>Response</th>\n",
       "    </tr>\n",
       "  </thead>\n",
       "  <tbody>\n",
       "    <tr>\n",
       "      <th>0</th>\n",
       "      <td>C3</td>\n",
       "      <td>Rented</td>\n",
       "      <td>Individual</td>\n",
       "      <td>No</td>\n",
       "      <td>X1</td>\n",
       "      <td>22</td>\n",
       "      <td>0</td>\n",
       "    </tr>\n",
       "    <tr>\n",
       "      <th>1</th>\n",
       "      <td>C5</td>\n",
       "      <td>Owned</td>\n",
       "      <td>Joint</td>\n",
       "      <td>No</td>\n",
       "      <td>X2</td>\n",
       "      <td>22</td>\n",
       "      <td>0</td>\n",
       "    </tr>\n",
       "    <tr>\n",
       "      <th>2</th>\n",
       "      <td>C24</td>\n",
       "      <td>Owned</td>\n",
       "      <td>Joint</td>\n",
       "      <td>No</td>\n",
       "      <td>X1</td>\n",
       "      <td>19</td>\n",
       "      <td>0</td>\n",
       "    </tr>\n",
       "    <tr>\n",
       "      <th>3</th>\n",
       "      <td>C8</td>\n",
       "      <td>Rented</td>\n",
       "      <td>Individual</td>\n",
       "      <td>No</td>\n",
       "      <td>X2</td>\n",
       "      <td>16</td>\n",
       "      <td>0</td>\n",
       "    </tr>\n",
       "    <tr>\n",
       "      <th>4</th>\n",
       "      <td>C9</td>\n",
       "      <td>Rented</td>\n",
       "      <td>Individual</td>\n",
       "      <td>No</td>\n",
       "      <td>X2</td>\n",
       "      <td>22</td>\n",
       "      <td>1</td>\n",
       "    </tr>\n",
       "  </tbody>\n",
       "</table>\n",
       "</div>"
      ],
      "text/plain": [
       "  City_Code Accomodation_Type Reco_Insurance_Type Is_Spouse Health_Indicator  \\\n",
       "0        C3            Rented          Individual        No               X1   \n",
       "1        C5             Owned               Joint        No               X2   \n",
       "2       C24             Owned               Joint        No               X1   \n",
       "3        C8            Rented          Individual        No               X2   \n",
       "4        C9            Rented          Individual        No               X2   \n",
       "\n",
       "   Reco_Policy_Cat  Response  \n",
       "0               22         0  \n",
       "1               22         0  \n",
       "2               19         0  \n",
       "3               16         0  \n",
       "4               22         1  "
      ]
     },
     "execution_count": 15,
     "metadata": {},
     "output_type": "execute_result"
    }
   ],
   "source": [
    "# Generating Dataset with all Categorical Features\n",
    "cat_col_set = ['City_Code', 'Accomodation_Type', 'Reco_Insurance_Type', 'Is_Spouse', 'Health_Indicator', 'Reco_Policy_Cat', 'Response']\n",
    "df_cat = df[cat_col_set]\n",
    "df_cat.head()"
   ]
  },
  {
   "cell_type": "code",
   "execution_count": 16,
   "id": "b5feaec1",
   "metadata": {},
   "outputs": [
    {
     "name": "stdout",
     "output_type": "stream",
     "text": [
      "City_Code : ['C1', 'C2', 'C3', 'C4', 'C9', 'C6', 'C7', 'C8', 'C10', 'C5', 'C15', 'C17', 'C16', 'C11', 'C13', 'C20', 'C19', 'C12', 'C18', 'C14', 'C21', 'C23', 'C24', 'C22', 'C26', 'C29', 'C25', 'C28', 'C33', 'C27', 'C32', 'C34', 'C30', 'C35', 'C36', 'C31']\n",
      "\n",
      "Accomodation_Type : ['Owned', 'Rented']\n",
      "\n",
      "Reco_Insurance_Type : ['Individual', 'Joint']\n",
      "\n",
      "Is_Spouse : ['No', 'Yes']\n",
      "\n",
      "Health_Indicator : ['X1', 'X2', 'X3', 'X4', 'X5', 'X6', 'X7', 'X8', 'X9']\n",
      "\n",
      "Reco_Policy_Cat : [22, 18, 21, 16, 17, 19, 20, 12, 1, 2, 14, 13, 15, 3, 4, 5, 6, 7, 9, 11, 8, 10]\n",
      "\n",
      "Response : [0, 1]\n",
      "\n"
     ]
    }
   ],
   "source": [
    "# Calculating Number of Categories in Each Column\n",
    "cols = df_cat.columns\n",
    "for col in cols:\n",
    "    category_set = list(dict(df[col].value_counts()).keys())\n",
    "    print(f'{col} : {category_set}\\n')"
   ]
  },
  {
   "cell_type": "markdown",
   "id": "14d17ad9",
   "metadata": {},
   "source": [
    "### Applying Label Encoding for Fisher's Score Test"
   ]
  },
  {
   "cell_type": "code",
   "execution_count": 17,
   "id": "bc6adfd3",
   "metadata": {},
   "outputs": [],
   "source": [
    "# Setting Encoding Criteria\n",
    "enc = {\n",
    "    'City_Code': {f'C{i}': i for i in range(1, 37)},\n",
    "    'Accomodation_Type': {'Owned': 0, 'Rented': 1},\n",
    "    'Reco_Insurance_Type': {'Individual': 0, 'Joint': 1},\n",
    "    'Is_Spouse': {'No': 0, 'Yes': 1},\n",
    "    'Health_Indicator': {f'X{i}': i for i in range(1, 10)}\n",
    "}"
   ]
  },
  {
   "cell_type": "code",
   "execution_count": 18,
   "id": "3b3d38d8",
   "metadata": {},
   "outputs": [
    {
     "data": {
      "text/plain": [
       "{'City_Code': {'C1': 1,\n",
       "  'C2': 2,\n",
       "  'C3': 3,\n",
       "  'C4': 4,\n",
       "  'C5': 5,\n",
       "  'C6': 6,\n",
       "  'C7': 7,\n",
       "  'C8': 8,\n",
       "  'C9': 9,\n",
       "  'C10': 10,\n",
       "  'C11': 11,\n",
       "  'C12': 12,\n",
       "  'C13': 13,\n",
       "  'C14': 14,\n",
       "  'C15': 15,\n",
       "  'C16': 16,\n",
       "  'C17': 17,\n",
       "  'C18': 18,\n",
       "  'C19': 19,\n",
       "  'C20': 20,\n",
       "  'C21': 21,\n",
       "  'C22': 22,\n",
       "  'C23': 23,\n",
       "  'C24': 24,\n",
       "  'C25': 25,\n",
       "  'C26': 26,\n",
       "  'C27': 27,\n",
       "  'C28': 28,\n",
       "  'C29': 29,\n",
       "  'C30': 30,\n",
       "  'C31': 31,\n",
       "  'C32': 32,\n",
       "  'C33': 33,\n",
       "  'C34': 34,\n",
       "  'C35': 35,\n",
       "  'C36': 36},\n",
       " 'Accomodation_Type': {'Owned': 0, 'Rented': 1},\n",
       " 'Reco_Insurance_Type': {'Individual': 0, 'Joint': 1},\n",
       " 'Is_Spouse': {'No': 0, 'Yes': 1},\n",
       " 'Health_Indicator': {'X1': 1,\n",
       "  'X2': 2,\n",
       "  'X3': 3,\n",
       "  'X4': 4,\n",
       "  'X5': 5,\n",
       "  'X6': 6,\n",
       "  'X7': 7,\n",
       "  'X8': 8,\n",
       "  'X9': 9}}"
      ]
     },
     "execution_count": 18,
     "metadata": {},
     "output_type": "execute_result"
    }
   ],
   "source": [
    "# Encoding Criteria Preview\n",
    "enc"
   ]
  },
  {
   "cell_type": "code",
   "execution_count": 19,
   "id": "facd2559",
   "metadata": {},
   "outputs": [],
   "source": [
    "# Encoding\n",
    "df_cat.replace(enc, inplace=True)"
   ]
  },
  {
   "cell_type": "code",
   "execution_count": 20,
   "id": "553decdd",
   "metadata": {},
   "outputs": [
    {
     "name": "stdout",
     "output_type": "stream",
     "text": [
      "<class 'pandas.core.frame.DataFrame'>\n",
      "RangeIndex: 39191 entries, 0 to 39190\n",
      "Data columns (total 7 columns):\n",
      " #   Column               Non-Null Count  Dtype\n",
      "---  ------               --------------  -----\n",
      " 0   City_Code            39191 non-null  int64\n",
      " 1   Accomodation_Type    39191 non-null  int64\n",
      " 2   Reco_Insurance_Type  39191 non-null  int64\n",
      " 3   Is_Spouse            39191 non-null  int64\n",
      " 4   Health_Indicator     39191 non-null  int64\n",
      " 5   Reco_Policy_Cat      39191 non-null  int64\n",
      " 6   Response             39191 non-null  int64\n",
      "dtypes: int64(7)\n",
      "memory usage: 2.1 MB\n"
     ]
    }
   ],
   "source": [
    "# Updated Dataset Information\n",
    "df_cat.info()"
   ]
  },
  {
   "cell_type": "code",
   "execution_count": 21,
   "id": "66ee96f6",
   "metadata": {},
   "outputs": [
    {
     "data": {
      "text/html": [
       "<div>\n",
       "<style scoped>\n",
       "    .dataframe tbody tr th:only-of-type {\n",
       "        vertical-align: middle;\n",
       "    }\n",
       "\n",
       "    .dataframe tbody tr th {\n",
       "        vertical-align: top;\n",
       "    }\n",
       "\n",
       "    .dataframe thead th {\n",
       "        text-align: right;\n",
       "    }\n",
       "</style>\n",
       "<table border=\"1\" class=\"dataframe\">\n",
       "  <thead>\n",
       "    <tr style=\"text-align: right;\">\n",
       "      <th></th>\n",
       "      <th>City_Code</th>\n",
       "      <th>Accomodation_Type</th>\n",
       "      <th>Reco_Insurance_Type</th>\n",
       "      <th>Is_Spouse</th>\n",
       "      <th>Health_Indicator</th>\n",
       "      <th>Reco_Policy_Cat</th>\n",
       "      <th>Response</th>\n",
       "    </tr>\n",
       "  </thead>\n",
       "  <tbody>\n",
       "    <tr>\n",
       "      <th>0</th>\n",
       "      <td>3</td>\n",
       "      <td>1</td>\n",
       "      <td>0</td>\n",
       "      <td>0</td>\n",
       "      <td>1</td>\n",
       "      <td>22</td>\n",
       "      <td>0</td>\n",
       "    </tr>\n",
       "    <tr>\n",
       "      <th>1</th>\n",
       "      <td>5</td>\n",
       "      <td>0</td>\n",
       "      <td>1</td>\n",
       "      <td>0</td>\n",
       "      <td>2</td>\n",
       "      <td>22</td>\n",
       "      <td>0</td>\n",
       "    </tr>\n",
       "    <tr>\n",
       "      <th>2</th>\n",
       "      <td>24</td>\n",
       "      <td>0</td>\n",
       "      <td>1</td>\n",
       "      <td>0</td>\n",
       "      <td>1</td>\n",
       "      <td>19</td>\n",
       "      <td>0</td>\n",
       "    </tr>\n",
       "    <tr>\n",
       "      <th>3</th>\n",
       "      <td>8</td>\n",
       "      <td>1</td>\n",
       "      <td>0</td>\n",
       "      <td>0</td>\n",
       "      <td>2</td>\n",
       "      <td>16</td>\n",
       "      <td>0</td>\n",
       "    </tr>\n",
       "    <tr>\n",
       "      <th>4</th>\n",
       "      <td>9</td>\n",
       "      <td>1</td>\n",
       "      <td>0</td>\n",
       "      <td>0</td>\n",
       "      <td>2</td>\n",
       "      <td>22</td>\n",
       "      <td>1</td>\n",
       "    </tr>\n",
       "  </tbody>\n",
       "</table>\n",
       "</div>"
      ],
      "text/plain": [
       "   City_Code  Accomodation_Type  Reco_Insurance_Type  Is_Spouse  \\\n",
       "0          3                  1                    0          0   \n",
       "1          5                  0                    1          0   \n",
       "2         24                  0                    1          0   \n",
       "3          8                  1                    0          0   \n",
       "4          9                  1                    0          0   \n",
       "\n",
       "   Health_Indicator  Reco_Policy_Cat  Response  \n",
       "0                 1               22         0  \n",
       "1                 2               22         0  \n",
       "2                 1               19         0  \n",
       "3                 2               16         0  \n",
       "4                 2               22         1  "
      ]
     },
     "execution_count": 21,
     "metadata": {},
     "output_type": "execute_result"
    }
   ],
   "source": [
    "# Updated Categorical Feature Set\n",
    "df_cat.head()"
   ]
  },
  {
   "cell_type": "code",
   "execution_count": 22,
   "id": "3f975dd6",
   "metadata": {},
   "outputs": [],
   "source": [
    "# Feature Set and Class Set\n",
    "X = df_cat.iloc[0:, :-1]\n",
    "y = df_cat.iloc[0:, 6:]"
   ]
  },
  {
   "cell_type": "markdown",
   "id": "351eb41c",
   "metadata": {},
   "source": [
    "#### The below step is a highly computational step performed by Scipy Sparse Matrix generation step, there are 2 scenarios that could happen\n",
    "- The cell throws a `MemoryError: Unable to allocate <size> GiB for an array with shape (<dimensions>) and data type int64`\n",
    "- Your system may freeze, because your OS has granted the permission to allocate the required memory size and thus Scipy has started its heavy computational working.\n",
    "\n",
    "In any case make sure that you are not using your main system, so either do this processing on a Cloud Instance or on a Secondary System. Because it may take long time to complete and until it gets completed you won't be able to even move your mouse."
   ]
  },
  {
   "cell_type": "code",
   "execution_count": null,
   "id": "d391cf13",
   "metadata": {},
   "outputs": [],
   "source": [
    "# Performing Fisher's Score Test\n",
    "f_p_values = fisher_score.fisher_score(X.values, y.values.reshape(39191,))"
   ]
  },
  {
   "cell_type": "code",
   "execution_count": null,
   "id": "3314d4e8",
   "metadata": {},
   "outputs": [],
   "source": [
    "# Columns with their associated p-values from Fisher's Score Test\n",
    "p_values = pd.Series(f_p_values[1])\n",
    "p_values.index = X.columns\n",
    "p_values"
   ]
  },
  {
   "cell_type": "code",
   "execution_count": null,
   "id": "30106f5d",
   "metadata": {},
   "outputs": [],
   "source": [
    "# Sorting Columns based on their associated Chi-Sq Value\n",
    "p_values = dict(p_values.sort_values(ascending=True))"
   ]
  },
  {
   "cell_type": "code",
   "execution_count": null,
   "id": "9c13bc4a",
   "metadata": {},
   "outputs": [],
   "source": [
    "# Converting Scientific Notations to Integer\n",
    "for k in p_values.keys():\n",
    "    p_values[k] = '{:.12f}'.format(p_values[k])\n",
    "p_values"
   ]
  }
 ],
 "metadata": {
  "kernelspec": {
   "display_name": "Python 3",
   "language": "python",
   "name": "python3"
  },
  "language_info": {
   "codemirror_mode": {
    "name": "ipython",
    "version": 3
   },
   "file_extension": ".py",
   "mimetype": "text/x-python",
   "name": "python",
   "nbconvert_exporter": "python",
   "pygments_lexer": "ipython3",
   "version": "3.7.3"
  }
 },
 "nbformat": 4,
 "nbformat_minor": 5
}
