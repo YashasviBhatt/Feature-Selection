{
 "cells": [
  {
   "cell_type": "code",
   "execution_count": 1,
   "id": "de64c008",
   "metadata": {},
   "outputs": [],
   "source": [
    "# Importing Libraries\n",
    "import numpy as np\n",
    "import pandas as pd"
   ]
  },
  {
   "cell_type": "code",
   "execution_count": 2,
   "id": "729fd0ce",
   "metadata": {},
   "outputs": [],
   "source": [
    "# Ignoring Warnings\n",
    "import warnings\n",
    "warnings.filterwarnings('ignore')"
   ]
  },
  {
   "cell_type": "code",
   "execution_count": 3,
   "id": "0ddd4a92",
   "metadata": {},
   "outputs": [],
   "source": [
    "# Importing Dataset\n",
    "df = pd.read_csv('data2.csv')"
   ]
  },
  {
   "cell_type": "code",
   "execution_count": 4,
   "id": "ff7bcc24",
   "metadata": {},
   "outputs": [
    {
     "data": {
      "text/plain": [
       "(25000, 12)"
      ]
     },
     "execution_count": 4,
     "metadata": {},
     "output_type": "execute_result"
    }
   ],
   "source": [
    "# Dimensions of Dataset\n",
    "df.shape"
   ]
  },
  {
   "cell_type": "code",
   "execution_count": 5,
   "id": "8bf66a97",
   "metadata": {},
   "outputs": [
    {
     "name": "stdout",
     "output_type": "stream",
     "text": [
      "<class 'pandas.core.frame.DataFrame'>\n",
      "RangeIndex: 25000 entries, 0 to 24999\n",
      "Data columns (total 12 columns):\n",
      " #   Column  Non-Null Count  Dtype  \n",
      "---  ------  --------------  -----  \n",
      " 0   ID      25000 non-null  int64  \n",
      " 1   A       25000 non-null  float64\n",
      " 2   B       25000 non-null  float64\n",
      " 3   C       25000 non-null  int64  \n",
      " 4   D       25000 non-null  float64\n",
      " 5   E       25000 non-null  int64  \n",
      " 6   F       25000 non-null  float64\n",
      " 7   G       25000 non-null  int64  \n",
      " 8   H       25000 non-null  int64  \n",
      " 9   I       25000 non-null  float64\n",
      " 10  J       25000 non-null  int64  \n",
      " 11  Target  25000 non-null  int64  \n",
      "dtypes: float64(5), int64(7)\n",
      "memory usage: 2.3 MB\n"
     ]
    }
   ],
   "source": [
    "# Dataset Information\n",
    "df.info()"
   ]
  },
  {
   "cell_type": "code",
   "execution_count": 6,
   "id": "83e714de",
   "metadata": {},
   "outputs": [],
   "source": [
    "# Fropping ID Columns\n",
    "df = df.drop(columns=['ID'], axis=1)"
   ]
  },
  {
   "cell_type": "code",
   "execution_count": 7,
   "id": "8f6b5929",
   "metadata": {},
   "outputs": [
    {
     "data": {
      "text/html": [
       "<div>\n",
       "<style scoped>\n",
       "    .dataframe tbody tr th:only-of-type {\n",
       "        vertical-align: middle;\n",
       "    }\n",
       "\n",
       "    .dataframe tbody tr th {\n",
       "        vertical-align: top;\n",
       "    }\n",
       "\n",
       "    .dataframe thead th {\n",
       "        text-align: right;\n",
       "    }\n",
       "</style>\n",
       "<table border=\"1\" class=\"dataframe\">\n",
       "  <thead>\n",
       "    <tr style=\"text-align: right;\">\n",
       "      <th></th>\n",
       "      <th>A</th>\n",
       "      <th>B</th>\n",
       "      <th>C</th>\n",
       "      <th>D</th>\n",
       "      <th>E</th>\n",
       "      <th>F</th>\n",
       "      <th>G</th>\n",
       "      <th>H</th>\n",
       "      <th>I</th>\n",
       "      <th>J</th>\n",
       "      <th>Target</th>\n",
       "    </tr>\n",
       "  </thead>\n",
       "  <tbody>\n",
       "    <tr>\n",
       "      <th>0</th>\n",
       "      <td>73.725693</td>\n",
       "      <td>29.562822</td>\n",
       "      <td>10</td>\n",
       "      <td>5.746985</td>\n",
       "      <td>2</td>\n",
       "      <td>561.442154</td>\n",
       "      <td>3</td>\n",
       "      <td>2</td>\n",
       "      <td>88.604450</td>\n",
       "      <td>2</td>\n",
       "      <td>0</td>\n",
       "    </tr>\n",
       "    <tr>\n",
       "      <th>1</th>\n",
       "      <td>4.116468</td>\n",
       "      <td>30.095169</td>\n",
       "      <td>2</td>\n",
       "      <td>6.792506</td>\n",
       "      <td>8</td>\n",
       "      <td>557.535311</td>\n",
       "      <td>5</td>\n",
       "      <td>0</td>\n",
       "      <td>37.463449</td>\n",
       "      <td>0</td>\n",
       "      <td>1</td>\n",
       "    </tr>\n",
       "    <tr>\n",
       "      <th>2</th>\n",
       "      <td>77.606580</td>\n",
       "      <td>49.689778</td>\n",
       "      <td>3</td>\n",
       "      <td>7.300040</td>\n",
       "      <td>2</td>\n",
       "      <td>556.182285</td>\n",
       "      <td>3</td>\n",
       "      <td>5</td>\n",
       "      <td>36.718073</td>\n",
       "      <td>5</td>\n",
       "      <td>1</td>\n",
       "    </tr>\n",
       "    <tr>\n",
       "      <th>3</th>\n",
       "      <td>17.787214</td>\n",
       "      <td>39.191307</td>\n",
       "      <td>1</td>\n",
       "      <td>5.810426</td>\n",
       "      <td>5</td>\n",
       "      <td>539.476502</td>\n",
       "      <td>6</td>\n",
       "      <td>2</td>\n",
       "      <td>54.431439</td>\n",
       "      <td>2</td>\n",
       "      <td>1</td>\n",
       "    </tr>\n",
       "    <tr>\n",
       "      <th>4</th>\n",
       "      <td>59.411830</td>\n",
       "      <td>47.295107</td>\n",
       "      <td>12</td>\n",
       "      <td>5.195443</td>\n",
       "      <td>3</td>\n",
       "      <td>556.855548</td>\n",
       "      <td>3</td>\n",
       "      <td>1</td>\n",
       "      <td>32.405311</td>\n",
       "      <td>1</td>\n",
       "      <td>1</td>\n",
       "    </tr>\n",
       "  </tbody>\n",
       "</table>\n",
       "</div>"
      ],
      "text/plain": [
       "           A          B   C         D  E           F  G  H          I  J  \\\n",
       "0  73.725693  29.562822  10  5.746985  2  561.442154  3  2  88.604450  2   \n",
       "1   4.116468  30.095169   2  6.792506  8  557.535311  5  0  37.463449  0   \n",
       "2  77.606580  49.689778   3  7.300040  2  556.182285  3  5  36.718073  5   \n",
       "3  17.787214  39.191307   1  5.810426  5  539.476502  6  2  54.431439  2   \n",
       "4  59.411830  47.295107  12  5.195443  3  556.855548  3  1  32.405311  1   \n",
       "\n",
       "   Target  \n",
       "0       0  \n",
       "1       1  \n",
       "2       1  \n",
       "3       1  \n",
       "4       1  "
      ]
     },
     "execution_count": 7,
     "metadata": {},
     "output_type": "execute_result"
    }
   ],
   "source": [
    "# Data\n",
    "df.head()"
   ]
  },
  {
   "cell_type": "markdown",
   "id": "423d4c9c",
   "metadata": {},
   "source": [
    "## Continuous Columns\n",
    "\n",
    "### Columns to Target\n",
    "- A, B, D, F, I"
   ]
  },
  {
   "cell_type": "code",
   "execution_count": 8,
   "id": "5b769cc3",
   "metadata": {},
   "outputs": [],
   "source": [
    "# Dataset with Continuous Features\n",
    "df_cont = df[['A', 'B', 'D', 'F', 'I']]"
   ]
  },
  {
   "cell_type": "markdown",
   "id": "3cfa9f27",
   "metadata": {},
   "source": [
    "### Mean Absolute Difference\n",
    "- mad = (1/n)Σ|x<sub>ij</sub>-μ<sub>i</sub>|\n",
    "- where, i is the i<sup>th</sup> feature\n",
    "- μ<sub>i</sub> is Mean of ith feature\n",
    "- x<sub>ij</sub> is specific observation of j<sup>th</sup> observation of i<sup>th</sup> feature\n",
    "- n is the total number of observations"
   ]
  },
  {
   "cell_type": "code",
   "execution_count": 9,
   "id": "b98314be",
   "metadata": {},
   "outputs": [
    {
     "data": {
      "text/plain": [
       "A    24.914294\n",
       "B     7.500065\n",
       "D     2.252792\n",
       "F    24.960024\n",
       "I    14.922576\n",
       "dtype: float64"
      ]
     },
     "execution_count": 9,
     "metadata": {},
     "output_type": "execute_result"
    }
   ],
   "source": [
    "# Mean Absolute Difference\n",
    "mad = np.sum(np.abs(df_cont - np.mean(df_cont, axis=0)), axis=0) / df_cont.shape[0]\n",
    "mad"
   ]
  }
 ],
 "metadata": {
  "kernelspec": {
   "display_name": "Python 3",
   "language": "python",
   "name": "python3"
  },
  "language_info": {
   "codemirror_mode": {
    "name": "ipython",
    "version": 3
   },
   "file_extension": ".py",
   "mimetype": "text/x-python",
   "name": "python",
   "nbconvert_exporter": "python",
   "pygments_lexer": "ipython3",
   "version": "3.7.3"
  }
 },
 "nbformat": 4,
 "nbformat_minor": 5
}
